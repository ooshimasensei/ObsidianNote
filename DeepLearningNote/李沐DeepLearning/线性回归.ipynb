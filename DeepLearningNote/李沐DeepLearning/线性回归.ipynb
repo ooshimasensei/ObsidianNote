{
  "nbformat": 4,
  "nbformat_minor": 0,
  "metadata": {
    "colab": {
      "provenance": [],
      "gpuType": "T4"
    },
    "kernelspec": {
      "name": "python3",
      "display_name": "Python 3"
    },
    "language_info": {
      "name": "python"
    },
    "accelerator": "GPU"
  },
  "cells": [
    {
      "cell_type": "code",
      "execution_count": null,
      "metadata": {
        "id": "36UBZ8MSISEq"
      },
      "outputs": [],
      "source": [
        "!pip install d2l"
      ]
    },
    {
      "cell_type": "code",
      "source": [
        "%matplotlib inline\n",
        "import random\n",
        "import torch\n",
        "from d2l import torch as d2l"
      ],
      "metadata": {
        "id": "qIKeg5OCJHl1"
      },
      "execution_count": null,
      "outputs": []
    },
    {
      "cell_type": "markdown",
      "source": [
        "生成自定义样本"
      ],
      "metadata": {
        "id": "jVZGLLd93Gzw"
      }
    },
    {
      "cell_type": "code",
      "source": [
        "def synthetic_data(w, b, num_examples):\n",
        "    \"\"\"生成y=Xw+b+噪声\"\"\"\n",
        "    #生成样本矩阵 均值和方差分别为0，1  样本数为num_examples，特征数为len(w)\n",
        "    X = torch.normal(0, 1, (num_examples, len(w)))\n",
        "    #得到标签向量y\n",
        "    y = torch.matmul(X, w) + b\n",
        "    #给标签向量y加噪声，噪声跟y的shape相同，均值0方差0.01\n",
        "    y += torch.normal(0, 0.01, y.shape)\n",
        "    return X, y.reshape((-1, 1))\n",
        "\n",
        "true_w = torch.tensor([2, -3.4])\n",
        "true_b = 4.2\n",
        "features, labels = synthetic_data(true_w, true_b, 1000)"
      ],
      "metadata": {
        "id": "kG7DWHqvJ6G5"
      },
      "execution_count": null,
      "outputs": []
    },
    {
      "cell_type": "code",
      "source": [
        "print('features:', features[0],'\\nlabel:', labels[0])"
      ],
      "metadata": {
        "colab": {
          "base_uri": "https://localhost:8080/"
        },
        "id": "2bP0Cz7qKAH5",
        "outputId": "b16fa46b-c000-4a1f-f257-2d9f978f7a8e"
      },
      "execution_count": null,
      "outputs": [
        {
          "output_type": "stream",
          "name": "stdout",
          "text": [
            "features: tensor([-0.1807, -1.2172]) \n",
            "label: tensor([7.9818])\n"
          ]
        }
      ]
    },
    {
      "cell_type": "markdown",
      "source": [
        "定义一个data_iter函数， 该函数接收批量大小、特征矩阵和标签向量作为输入，生成大小为batch_size的小批量。"
      ],
      "metadata": {
        "id": "u7XN173p4Dyc"
      }
    },
    {
      "cell_type": "code",
      "source": [
        "def data_iter(batch_size, features, labels):\n",
        "    # 获取样本数量\n",
        "    num_examples = len(features)\n",
        "    # 按样本创建下标\n",
        "    indices = list(range(num_examples))\n",
        "    # 打乱下标\n",
        "    random.shuffle(indices)\n",
        "    # 每次循环取出batch_size个样本和对应标签出来\n",
        "    for i in range(0, num_examples, batch_size):\n",
        "        batch_indices = torch.tensor(\n",
        "            indices[i: min(i + batch_size, num_examples)])\n",
        "        yield features[batch_indices], labels[batch_indices]"
      ],
      "metadata": {
        "id": "fIXsgtD14DXQ"
      },
      "execution_count": null,
      "outputs": []
    },
    {
      "cell_type": "markdown",
      "source": [
        "试试上面这个分批函数效果"
      ],
      "metadata": {
        "id": "DzEKMppI8rrW"
      }
    },
    {
      "cell_type": "code",
      "source": [
        "batch_size = 10\n",
        "\n",
        "for X, y in data_iter(batch_size, features, labels):\n",
        "    print(X, '\\n', y)\n",
        "    break\n"
      ],
      "metadata": {
        "colab": {
          "base_uri": "https://localhost:8080/"
        },
        "id": "I-Co-FDh8oox",
        "outputId": "307699d6-94b3-47e6-9f07-fd499def284b"
      },
      "execution_count": null,
      "outputs": [
        {
          "output_type": "stream",
          "name": "stdout",
          "text": [
            "tensor([[ 0.5683, -1.2830],\n",
            "        [-1.9906,  0.0136],\n",
            "        [ 0.1531, -0.7104],\n",
            "        [ 0.5081,  2.4008],\n",
            "        [ 0.2598, -1.6010],\n",
            "        [ 0.6648,  0.1008],\n",
            "        [ 2.7117,  1.0925],\n",
            "        [ 1.8315, -1.1728],\n",
            "        [ 0.8145, -1.7820],\n",
            "        [ 1.2800,  1.1984]]) \n",
            " tensor([[ 9.6977],\n",
            "        [ 0.1583],\n",
            "        [ 6.9228],\n",
            "        [-2.9486],\n",
            "        [10.1637],\n",
            "        [ 5.1844],\n",
            "        [ 5.9143],\n",
            "        [11.8539],\n",
            "        [11.8786],\n",
            "        [ 2.6611]])\n"
          ]
        }
      ]
    },
    {
      "cell_type": "markdown",
      "source": [
        "定义 初始化模型参数"
      ],
      "metadata": {
        "id": "LYV9N8uq94HU"
      }
    },
    {
      "cell_type": "code",
      "source": [
        "# 维度为2行1列，数值取自均值为0，标准差为0.01的正态分布\n",
        "w = torch.normal(0, 0.01, size=(2,1), requires_grad=True)\n",
        "# 偏差b取了0，标量\n",
        "b = torch.zeros(1, requires_grad=True)"
      ],
      "metadata": {
        "id": "vYXT8zsu92P5"
      },
      "execution_count": null,
      "outputs": []
    },
    {
      "cell_type": "markdown",
      "source": [
        "定义模型"
      ],
      "metadata": {
        "id": "LhRw0jIS974v"
      }
    },
    {
      "cell_type": "code",
      "source": [
        "def linreg(X, w, b):\n",
        "    \"\"\"线性回归模型\"\"\"\n",
        "    return torch.matmul(X, w) + b"
      ],
      "metadata": {
        "id": "wkTqCBc899cP"
      },
      "execution_count": null,
      "outputs": []
    },
    {
      "cell_type": "markdown",
      "source": [
        "定义损失函数"
      ],
      "metadata": {
        "id": "W_IErcSu_LY5"
      }
    },
    {
      "cell_type": "code",
      "source": [
        "def squared_loss(y_hat, y):\n",
        "    \"\"\"均方损失\"\"\"\n",
        "    return (y_hat - y.reshape(y_hat.shape)) ** 2 / 2"
      ],
      "metadata": {
        "id": "M2kG7BW5_Jnv"
      },
      "execution_count": null,
      "outputs": []
    },
    {
      "cell_type": "markdown",
      "source": [
        "定义优化算法"
      ],
      "metadata": {
        "id": "RW7XEx97_OXb"
      }
    },
    {
      "cell_type": "code",
      "source": [
        "def sgd(params, lr, batch_size):\n",
        "    \"\"\"小批量随机梯度下降\"\"\"\n",
        "    with torch.no_grad():\n",
        "        for param in params:\n",
        "            param -= lr * param.grad / batch_size\n",
        "            param.grad.zero_()"
      ],
      "metadata": {
        "id": "BSKP06-6_Qkw"
      },
      "execution_count": null,
      "outputs": []
    },
    {
      "cell_type": "markdown",
      "source": [
        "训练"
      ],
      "metadata": {
        "id": "T97D-rkVOExr"
      }
    },
    {
      "cell_type": "code",
      "source": [
        "lr = 0.03\n",
        "num_epochs = 10\n",
        "net = linreg\n",
        "loss = squared_loss\n",
        "\n",
        "for epoch in range(num_epochs):\n",
        "    for X, y in data_iter(batch_size, features, labels):\n",
        "        l = loss(net(X, w, b), y)  # X和y的小批量损失\n",
        "        # 因为l形状是(batch_size,1)，而不是一个标量。l中的所有元素被加到一起，\n",
        "        # 并以此计算关于[w,b]的梯度\n",
        "        l.sum().backward()\n",
        "        sgd([w, b], lr, batch_size)  # 使用参数的梯度更新参数\n",
        "    with torch.no_grad():\n",
        "        train_l = loss(net(features, w, b), labels)\n",
        "        print(f'epoch {epoch + 1}, loss {float(train_l.mean()):f}')"
      ],
      "metadata": {
        "colab": {
          "base_uri": "https://localhost:8080/"
        },
        "id": "sJemFGEXOFrj",
        "outputId": "7b415b08-1f1c-40bc-e0cc-8d5e5007dd04"
      },
      "execution_count": null,
      "outputs": [
        {
          "output_type": "stream",
          "name": "stdout",
          "text": [
            "epoch 1, loss 0.000058\n",
            "epoch 2, loss 0.000050\n",
            "epoch 3, loss 0.000050\n",
            "epoch 4, loss 0.000050\n",
            "epoch 5, loss 0.000049\n",
            "epoch 6, loss 0.000049\n",
            "epoch 7, loss 0.000049\n",
            "epoch 8, loss 0.000050\n",
            "epoch 9, loss 0.000050\n",
            "epoch 10, loss 0.000049\n"
          ]
        }
      ]
    },
    {
      "cell_type": "markdown",
      "source": [
        "\n",
        "\n",
        "\n",
        "\n",
        "#线性回归的简洁实现"
      ],
      "metadata": {
        "id": "WjWWkXl6T1r7"
      }
    },
    {
      "cell_type": "markdown",
      "source": [
        "##生成数据集"
      ],
      "metadata": {
        "id": "MYs82Fc2VTCl"
      }
    },
    {
      "cell_type": "code",
      "source": [
        "!pip install d2l"
      ],
      "metadata": {
        "id": "_Wbqy8fR5wyL"
      },
      "execution_count": null,
      "outputs": []
    },
    {
      "cell_type": "code",
      "source": [
        "import numpy as np\n",
        "import torch\n",
        "from torch.utils import data\n",
        "from d2l import torch as d2l\n",
        "\n",
        "true_w = torch.tensor([2, -3.4])\n",
        "true_b = 4.2\n",
        "features, labels = d2l.synthetic_data(true_w, true_b, 1000)"
      ],
      "metadata": {
        "id": "X2CrwhWET5E8"
      },
      "execution_count": null,
      "outputs": []
    },
    {
      "cell_type": "markdown",
      "source": [
        "##读取数据集"
      ],
      "metadata": {
        "id": "sWgNWEeUVoPg"
      }
    },
    {
      "cell_type": "code",
      "source": [
        "def load_array(data_arrays, batch_size, is_train=True):\n",
        "    \"\"\"构造一个PyTorch数据迭代器\"\"\"\n",
        "    dataset = data.TensorDataset(*data_arrays)\n",
        "    return data.DataLoader(dataset, batch_size, shuffle=is_train)\n",
        "\n",
        "batch_size = 10\n",
        "data_iter = load_array((features, labels), batch_size)"
      ],
      "metadata": {
        "id": "e85vyBiGWYUM"
      },
      "execution_count": null,
      "outputs": []
    },
    {
      "cell_type": "markdown",
      "source": [
        "##定义模型"
      ],
      "metadata": {
        "id": "jBx-IxkUV2nt"
      }
    },
    {
      "cell_type": "code",
      "source": [
        "# nn是神经网络的缩写\n",
        "from torch import nn\n",
        "\n",
        "net = nn.Sequential(nn.Linear(2, 1))"
      ],
      "metadata": {
        "id": "ywzjm-NgWdz9"
      },
      "execution_count": null,
      "outputs": []
    },
    {
      "cell_type": "markdown",
      "source": [
        "##初始化模型参数"
      ],
      "metadata": {
        "id": "pE2-HN7PV-BN"
      }
    },
    {
      "cell_type": "code",
      "source": [
        "net[0].weight.data.normal_(0, 0.01)\n",
        "net[0].bias.data.fill_(0)"
      ],
      "metadata": {
        "colab": {
          "base_uri": "https://localhost:8080/"
        },
        "id": "OjypNHOzWa0s",
        "outputId": "c96e69c9-21ba-4122-d7e5-df556cadcfda"
      },
      "execution_count": null,
      "outputs": [
        {
          "output_type": "execute_result",
          "data": {
            "text/plain": [
              "tensor([0.])"
            ]
          },
          "metadata": {},
          "execution_count": 7
        }
      ]
    },
    {
      "cell_type": "markdown",
      "source": [
        "##定义损失函数"
      ],
      "metadata": {
        "id": "RXWpNV-nWIIA"
      }
    },
    {
      "cell_type": "code",
      "source": [
        "loss = nn.MSELoss()"
      ],
      "metadata": {
        "id": "BVuCnYkjWbY1"
      },
      "execution_count": null,
      "outputs": []
    },
    {
      "cell_type": "markdown",
      "source": [
        "##定义优化算法"
      ],
      "metadata": {
        "id": "21XUvhDzWL7N"
      }
    },
    {
      "cell_type": "code",
      "source": [
        "trainer = torch.optim.SGD(net.parameters(), lr=0.03)"
      ],
      "metadata": {
        "id": "8Tz4vRhZWcbu"
      },
      "execution_count": null,
      "outputs": []
    },
    {
      "cell_type": "markdown",
      "source": [
        "##训练"
      ],
      "metadata": {
        "id": "lEdT-bq1WRZu"
      }
    },
    {
      "cell_type": "code",
      "source": [
        "num_epochs = 3\n",
        "for epoch in range(num_epochs):\n",
        "    for X, y in data_iter:\n",
        "        l = loss(net(X) ,y)\n",
        "        trainer.zero_grad()\n",
        "        l.backward()\n",
        "        trainer.step()\n",
        "    l = loss(net(features), labels)\n",
        "    print(f'epoch {epoch + 1}, loss {l:f}')"
      ],
      "metadata": {
        "colab": {
          "base_uri": "https://localhost:8080/"
        },
        "id": "Aiy_g1fQ5qXJ",
        "outputId": "a849f573-ac68-4d37-d8b2-9d8e368f84bf"
      },
      "execution_count": null,
      "outputs": [
        {
          "output_type": "stream",
          "name": "stdout",
          "text": [
            "epoch 1, loss 0.000257\n",
            "epoch 2, loss 0.000094\n",
            "epoch 3, loss 0.000094\n"
          ]
        }
      ]
    },
    {
      "cell_type": "markdown",
      "source": [],
      "metadata": {
        "id": "7aOoG8jVb0UI"
      }
    }
  ]
}